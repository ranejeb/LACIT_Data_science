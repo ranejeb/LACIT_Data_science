{
 "cells": [
  {
   "cell_type": "markdown",
   "metadata": {},
   "source": [
    "1)Список четных элементов списка L. Например, ['a',1,-2,1.2]→[-2]."
   ]
  },
  {
   "cell_type": "code",
   "execution_count": 12,
   "metadata": {},
   "outputs": [
    {
     "name": "stdout",
     "output_type": "stream",
     "text": [
      "[-2]\n"
     ]
    }
   ],
   "source": [
    "L= ['a',1,-2,1.2]\n",
    "new_L = [i for i in L if isinstance(i, (int, float)) if i % 2 == 0 ]\n",
    "\n",
    "print(new_L)"
   ]
  },
  {
   "cell_type": "markdown",
   "metadata": {},
   "source": [
    "2) Список элементов списка L с четными индексами. Например, ['a',1,-2,1.2]→['a',-2]."
   ]
  },
  {
   "cell_type": "code",
   "execution_count": 13,
   "metadata": {},
   "outputs": [
    {
     "name": "stdout",
     "output_type": "stream",
     "text": [
      "['a', -2]\n"
     ]
    }
   ],
   "source": [
    "L= ['a',1,-2,1.2]\n",
    "new_L = [L[i] for i in range(len(L)) if i % 2 == 0 ]\n",
    "\n",
    "print(new_L)"
   ]
  },
  {
   "cell_type": "markdown",
   "metadata": {},
   "source": [
    "3)Список положительных элементов списка L. Например, ['a',1,-2,1.2]→[1,1.2]."
   ]
  },
  {
   "cell_type": "code",
   "execution_count": 14,
   "metadata": {},
   "outputs": [
    {
     "name": "stdout",
     "output_type": "stream",
     "text": [
      "[1, 1.2]\n"
     ]
    }
   ],
   "source": [
    "\n",
    "L= ['a',1,-2,1.2]\n",
    "new_L = [i for i in L if isinstance(i, (int, float)) if i > 0 ]\n",
    "\n",
    "print(new_L)"
   ]
  },
  {
   "cell_type": "markdown",
   "metadata": {},
   "source": [
    "4)Список множеств элементов, которые дают одинаковый остаток при делении на положительное число m,\n",
    "из списка целых чисел L. Например, L=[1,3,4,7,9],m=3 → [{3,9}, {1,4,7}]."
   ]
  },
  {
   "cell_type": "code",
   "execution_count": 15,
   "metadata": {},
   "outputs": [
    {
     "name": "stdout",
     "output_type": "stream",
     "text": [
      "[{9, 3}, {1, 4, 7}]\n"
     ]
    }
   ],
   "source": [
    "N = [1,3,4,7,9]\n",
    "m = 3\n",
    "new_N = [{i for i in N if i % m == remainder} for remainder in {i % m for i in N}]\n",
    "\n",
    "print(new_N)"
   ]
  },
  {
   "cell_type": "markdown",
   "metadata": {},
   "source": [
    "5)Список сумм ключей и соответствующих им значений словаря D,\n",
    "в случае если и ключ и значение являются числами. Например, {1:2,'a':3,-1:1,3:'a'} -> [3,0]."
   ]
  },
  {
   "cell_type": "code",
   "execution_count": 16,
   "metadata": {},
   "outputs": [
    {
     "name": "stdout",
     "output_type": "stream",
     "text": [
      "[3, 0]\n"
     ]
    }
   ],
   "source": [
    "D = {1:2,'a':3,-1:1,3:'a'}\n",
    "new_D = [D.get(i) + i for i in D if isinstance(i, (int, float)) and isinstance(D.get(i), (int, float))]\n",
    "\n",
    "print(new_D)"
   ]
  },
  {
   "cell_type": "markdown",
   "metadata": {},
   "source": [
    "6) Список таких пар (кортежей из двух элементов) значений из списка чисел L, что первое значение строго меньше второго. Например, [3,4.1,2] -> [(3, 4.1), (2, 3), (2, 4.1)]."
   ]
  },
  {
   "cell_type": "code",
   "execution_count": 17,
   "metadata": {},
   "outputs": [
    {
     "name": "stdout",
     "output_type": "stream",
     "text": [
      "[(3, 4.1), (2, 3), (2, 4.1)]\n"
     ]
    }
   ],
   "source": [
    "L =  [3, 4.1, 2] \n",
    "new_L = [(n1, n2) for n1 in L for n2 in L if n1 < n2]\n",
    "\n",
    "print (new_L)"
   ]
  },
  {
   "cell_type": "markdown",
   "metadata": {},
   "source": [
    "7)Словарь, ключами которого служат элементы списка L с четными индексами, а значениями – соответствующие элементы с нечетными индексами. Количество элементов в списке L четно. Например, ['a',1,-2,1.2]>{'a':1,-2:1.2}."
   ]
  },
  {
   "cell_type": "code",
   "execution_count": 18,
   "metadata": {},
   "outputs": [
    {
     "name": "stdout",
     "output_type": "stream",
     "text": [
      "{'a': 1, -2: 1.2}\n"
     ]
    }
   ],
   "source": [
    "L = ['a',1,-2,1.2]\n",
    "new_L = dict(zip(L[0::2], L[1::2]))\t\n",
    "\n",
    "print(new_L)"
   ]
  }
 ],
 "metadata": {
  "kernelspec": {
   "display_name": "Python 3",
   "language": "python",
   "name": "python3"
  },
  "language_info": {
   "codemirror_mode": {
    "name": "ipython",
    "version": 3
   },
   "file_extension": ".py",
   "mimetype": "text/x-python",
   "name": "python",
   "nbconvert_exporter": "python",
   "pygments_lexer": "ipython3",
   "version": "3.8.5"
  }
 },
 "nbformat": 4,
 "nbformat_minor": 4
}
